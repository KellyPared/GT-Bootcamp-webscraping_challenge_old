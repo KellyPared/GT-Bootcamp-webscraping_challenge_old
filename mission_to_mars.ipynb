{
 "cells": [
  {
   "cell_type": "code",
   "execution_count": null,
   "id": "07f787a6",
   "metadata": {},
   "outputs": [],
   "source": [
    "# Import Splinter and BeautifulSoup\n",
    "from splinter import Browser\n",
    "from bs4 import BeautifulSoup as bs4\n",
    "import requests\n",
    "import pandas as pd\n",
    "from selenium.webdriver.chrome.service import Service\n",
    "from selenium import webdriver\n",
    "from selenium.webdriver.common.by import By\n",
    "from pprint import pprint \n",
    "import csv\n",
    "import os\n",
    "import sys\n",
    "import time\n",
    "os.path.dirname(sys.executable)"
   ]
  },
  {
   "cell_type": "code",
   "execution_count": null,
   "id": "2aac47fa",
   "metadata": {},
   "outputs": [],
   "source": [
    "#browser = webdriver.Chrome()\n",
    "global browser\n",
    "browser = Browser('chrome')"
   ]
  },
  {
   "cell_type": "markdown",
   "id": "d185c0eb",
   "metadata": {},
   "source": [
    "### NASA Mars News"
   ]
  },
  {
   "cell_type": "code",
   "execution_count": null,
   "id": "88edfeee",
   "metadata": {},
   "outputs": [],
   "source": [
    "# Visit the Mars news site: https://static.bc-edx.com/data/web/mars_news/index.html\n",
    "\n",
    "browser.visit('https://static.bc-edx.com/data/web/mars_news/index.html')\n",
    "# assign URL\n",
    "url = \"https://static.bc-edx.com/data/web/mars_news/index.html\"\n",
    "browser.visit(url)"
   ]
  },
  {
   "cell_type": "code",
   "execution_count": null,
   "id": "151d7ddd",
   "metadata": {},
   "outputs": [],
   "source": [
    "# Beautiful Soup - extraction\n",
    "html_content = requests.get(url).text\n",
    "\n",
    "# Create a Beautiful Soup object\n",
    "soup = bs4(html_content, \"html.parser\")\n",
    "print(soup.prettify())\n",
    "# Extract all the text elements\n",
    "mars_text = soup.find().text\n",
    "#print(mars_text)"
   ]
  },
  {
   "cell_type": "code",
   "execution_count": null,
   "id": "b5e8e74e",
   "metadata": {},
   "outputs": [],
   "source": [
    "title_results = soup.find_all('div', class_ = 'content_title')\n",
    "#soup.find(class_ = 'content_title')\n",
    "#print(title_results)"
   ]
  },
  {
   "cell_type": "code",
   "execution_count": null,
   "id": "ff15df2c",
   "metadata": {},
   "outputs": [],
   "source": [
    "description_results = soup.find_all('div', class_ = 'article_teaser_body')\n",
    "#print(preview_results)"
   ]
  },
  {
   "cell_type": "code",
   "execution_count": null,
   "id": "fe1bdd59",
   "metadata": {},
   "outputs": [],
   "source": [
    "# Create an empty list to store the dictionaries\n",
    "#\"title\":soup.find_all('title'),\n",
    "web_texts =[]\n",
    "\n",
    "for title in title_results:\n",
    "    for description in description_results:\n",
    "        web_text_dict = {\n",
    "            \"article_title\":title.text,\n",
    "            \"article_teaser\": description.text\n",
    "        }\n",
    "        web_texts.append(web_text_dict)\n",
    "web_dictionary = web_texts\n",
    "\n",
    "# FIND ALL THE TITLES AND PARAGRAPHS\n",
    "# for i in range(len(news_title)):        \n",
    "#     print(\"Title: \", news_title[i].text)\n",
    "#     print(\"Paragraph: \", paragraph_text[i].text)\n",
    "#     print('-------------------')"
   ]
  },
  {
   "cell_type": "code",
   "execution_count": null,
   "id": "7fff2877",
   "metadata": {},
   "outputs": [],
   "source": [
    "web_dictionary"
   ]
  },
  {
   "cell_type": "code",
   "execution_count": null,
   "id": "b093aeee",
   "metadata": {},
   "outputs": [],
   "source": [
    "\n",
    "with open('resources/articles_data.csv', 'w') as f:\n",
    "    for single_dict in web_dictionary:\n",
    "        for key in single_dict.keys():\n",
    "            f.write(\"%s,%s\\n\"%(key,single_dict[key]))"
   ]
  },
  {
   "cell_type": "markdown",
   "id": "cc24647d",
   "metadata": {},
   "source": [
    "### JPL Mars Space Images"
   ]
  },
  {
   "cell_type": "code",
   "execution_count": null,
   "id": "bbab6a30",
   "metadata": {},
   "outputs": [],
   "source": [
    "browser.visit('https://spaceimages-mars.com/')\n",
    "# assign URL\n",
    "url_image = \"https://spaceimages-mars.com/\"\n",
    "browser.visit(url_image)\n",
    "my_service = Service()\n"
   ]
  },
  {
   "cell_type": "code",
   "execution_count": null,
   "id": "ebc45cbd",
   "metadata": {},
   "outputs": [],
   "source": [
    "# assign our HTML elements to variables\n",
    "#search_button = browser.find_by_text(\"button\", class_=\"btn btn-outline-light hideimage\")\n",
    "search_button = browser.find_by_xpath('//div[1]/div/a/button')\n",
    "# click the search button\n",
    "search_button.click()\n",
    "\n",
    "# tell python to pause for 10s so we can observe the browser\n",
    "time.sleep(10)\n",
    "\n"
   ]
  },
  {
   "cell_type": "code",
   "execution_count": null,
   "id": "b0ca2e2e",
   "metadata": {},
   "outputs": [],
   "source": [
    "#find image /html/body/div[8]/div/div/div/div/img\n",
    "divs = browser.find_by_tag(\"class\")\n",
    "within_elements = browser.links.find_by_partial_href(\"featured\")\n",
    "print(within_elements)\n",
    "#featured_image_url = \n",
    "#print(featured_image_url)\n",
    "\n",
    "#<a target=\"_blank\" class=\"showimg fancybox-thumbs\" href=\"image/featured/mars2.jpg\"> <button class=\"btn btn-outline-light\"> FULL IMAGE</button></a>\n",
    "\n"
   ]
  },
  {
   "cell_type": "code",
   "execution_count": null,
   "id": "35c86103",
   "metadata": {
    "scrolled": false
   },
   "outputs": [],
   "source": [
    "# Beautiful Soup - extraction\n",
    "html_content = requests.get(url_image).text\n",
    "\n",
    "# Create a Beautiful Soup object\n",
    "soup = bs4(html_content, \"html.parser\")\n",
    "print(soup.prettify())\n",
    "# Extract all the text elements\n",
    "mars_image = soup.find().text\n",
    "#print(mars_text)\n",
    "\n"
   ]
  },
  {
   "cell_type": "markdown",
   "id": "ae001c00",
   "metadata": {},
   "source": [
    "### Mars Facts\n"
   ]
  },
  {
   "cell_type": "code",
   "execution_count": null,
   "id": "d33e760a",
   "metadata": {},
   "outputs": [],
   "source": [
    "#!pip install html5lib"
   ]
  },
  {
   "cell_type": "code",
   "execution_count": null,
   "id": "b6246106",
   "metadata": {},
   "outputs": [],
   "source": [
    "#https://galaxyfacts-mars.com/\n",
    "\n",
    "#Pandas to scrape table\n",
    "url = 'https://galaxyfacts-mars.com/'\n",
    "all_tables = pd.read_html(url)\n",
    "print(len(all_tables))\n"
   ]
  },
  {
   "cell_type": "code",
   "execution_count": null,
   "id": "8f459461",
   "metadata": {},
   "outputs": [],
   "source": [
    "mars_table = all_tables[0]"
   ]
  },
  {
   "cell_type": "code",
   "execution_count": null,
   "id": "233028dc",
   "metadata": {},
   "outputs": [],
   "source": [
    "print(type(mars_table))"
   ]
  },
  {
   "cell_type": "code",
   "execution_count": null,
   "id": "0503220c",
   "metadata": {},
   "outputs": [],
   "source": [
    "#all_tables[1]"
   ]
  },
  {
   "cell_type": "raw",
   "id": "5b0abfb2",
   "metadata": {},
   "source": [
    "mars_comparison = pd.DataFrame(all_tables[0])\n",
    "mars_comparison.head()"
   ]
  },
  {
   "cell_type": "markdown",
   "id": "33f7875d",
   "metadata": {},
   "source": []
  },
  {
   "cell_type": "markdown",
   "id": "8376310a",
   "metadata": {},
   "source": [
    "### Mars Hemispheres"
   ]
  },
  {
   "cell_type": "code",
   "execution_count": null,
   "id": "b87919e0",
   "metadata": {},
   "outputs": [],
   "source": [
    "#!pip install selenium"
   ]
  },
  {
   "cell_type": "code",
   "execution_count": null,
   "id": "0048c636",
   "metadata": {},
   "outputs": [],
   "source": [
    "#browser = webdriver.Chrome()\n",
    "global browser\n",
    "browser = Browser('chrome')"
   ]
  },
  {
   "cell_type": "code",
   "execution_count": null,
   "id": "d102ee21",
   "metadata": {},
   "outputs": [],
   "source": [
    "# Beautiful Soup - extraction\n",
    "url_hemis = 'https://marshemispheres.com/'\n",
    "html_content = requests.get(url_hemis).text\n",
    "\n",
    "# Create a Beautiful Soup object\n",
    "soup = bs4(html_content, \"html.parser\")\n",
    "print(soup.prettify())\n",
    "# Extract all the text elements\n",
    "mars_image = soup.find().text"
   ]
  },
  {
   "cell_type": "code",
   "execution_count": null,
   "id": "6922a749",
   "metadata": {},
   "outputs": [],
   "source": [
    "search_button = browser.find_by_xpath('//div[1]/div/a/button')\n",
    "# click the search button\n",
    "search_button.click()\n",
    "\n",
    "# tell python to pause for 10s so we can observe the browser\n",
    "time.sleep(10)"
   ]
  },
  {
   "cell_type": "code",
   "execution_count": null,
   "id": "2188b6db",
   "metadata": {},
   "outputs": [],
   "source": [
    "link_results = []\n",
    "#<a href=\"cerberus.html\" class=\"itemLink product-item\"> <h3>Cerberus Hemisphere Enhanced</h3>\n",
    "title_results = []\n",
    "for link in soup.findAll(class_='itemLink product-item'):\n",
    "    l = link.get('href')\n",
    "    if l in link_results:\n",
    "        pass\n",
    "    else:\n",
    "        link_results.append(f\"https://marshemispheres.com/{l}\")\n",
    "for title in soup.findAll([\"h3\"]):\n",
    "    title_results.append(f\"{title.text}\")\n",
    "\n",
    "print(link_results)\n",
    "print(title_results)\n",
    "\n"
   ]
  },
  {
   "cell_type": "code",
   "execution_count": null,
   "id": "d7c90297",
   "metadata": {},
   "outputs": [],
   "source": [
    "hemispheres_dict = d1={\"title\":k for k in title_results}\n",
    "\n",
    "print(hemispheres_dict)"
   ]
  },
  {
   "cell_type": "code",
   "execution_count": null,
   "id": "0496d7d1",
   "metadata": {},
   "outputs": [],
   "source": [
    "#/html/body/div[1]/div/div[2]/section/div/div[2]/div[1]/a\n",
    "#//*[@id=\"product-section\"]/div[2]/div[1]/div/a\n",
    "#click each of the links to the hemispheres\n",
    "\n",
    "driver = webdriver.Chrome()\n",
    "driver.get('https://marshemispheres.com/')\n",
    "\n"
   ]
  },
  {
   "cell_type": "markdown",
   "id": "ed611d14",
   "metadata": {},
   "source": [
    "# Use the Latest Version of Selenium"
   ]
  },
  {
   "cell_type": "code",
   "execution_count": null,
   "id": "88d51f76",
   "metadata": {},
   "outputs": [],
   "source": [
    "#<a href=\"cerberus.html\" class=\"itemLink product-item\"><h3>Cerberus Hemisphere Enhanced</h3>\n",
    "#//*[@id=\"product-section\"]/div[2]/div[1]/div/a/h3                             \n",
    "\n",
    "search = driver.find_element(By.XPATH,'//*[@id=\"product-section\"]')\n",
    "search"
   ]
  },
  {
   "cell_type": "code",
   "execution_count": null,
   "id": "31882379",
   "metadata": {},
   "outputs": [],
   "source": [
    "for a in driver.find_element(By.XPATH,'//*[@id=\"product-section\"]'):\n",
    "    print(a.get_attribute('href'))"
   ]
  },
  {
   "cell_type": "code",
   "execution_count": null,
   "id": "5cfa0f1d",
   "metadata": {},
   "outputs": [],
   "source": [
    "# url_hemis = 'https://marshemispheres.com/'\n",
    "\n",
    "# browser.visit(url_hemis)\n",
    "# # assign URL\n",
    "# browser.visit(url_hemis)\n",
    "# my_service = Service()"
   ]
  },
  {
   "cell_type": "markdown",
   "id": "e199a938",
   "metadata": {},
   "source": [
    "### MongoDB and Flask Application"
   ]
  },
  {
   "cell_type": "code",
   "execution_count": null,
   "id": "113feb98",
   "metadata": {},
   "outputs": [],
   "source": [
    "def scrape():\n",
    "    "
   ]
  },
  {
   "cell_type": "code",
   "execution_count": null,
   "id": "b8886a1e",
   "metadata": {},
   "outputs": [],
   "source": []
  }
 ],
 "metadata": {
  "kernelspec": {
   "display_name": "Python 3 (ipykernel)",
   "language": "python",
   "name": "python3"
  },
  "language_info": {
   "codemirror_mode": {
    "name": "ipython",
    "version": 3
   },
   "file_extension": ".py",
   "mimetype": "text/x-python",
   "name": "python",
   "nbconvert_exporter": "python",
   "pygments_lexer": "ipython3",
   "version": "3.9.13"
  }
 },
 "nbformat": 4,
 "nbformat_minor": 5
}
